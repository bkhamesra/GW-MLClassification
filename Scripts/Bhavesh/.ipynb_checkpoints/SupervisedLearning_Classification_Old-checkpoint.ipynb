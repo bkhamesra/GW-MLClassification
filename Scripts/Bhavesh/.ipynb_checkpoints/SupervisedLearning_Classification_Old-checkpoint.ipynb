{
 "cells": [
  {
   "cell_type": "code",
   "execution_count": 1,
   "metadata": {},
   "outputs": [
    {
     "data": {
      "text/html": [
       "<script>\n",
       "code_show=true; \n",
       "function code_toggle() {\n",
       " if (code_show){\n",
       " $('div.input').hide();\n",
       " } else {\n",
       " $('div.input').show();\n",
       " }\n",
       " code_show = !code_show\n",
       "} \n",
       "$( document ).ready(code_toggle);\n",
       "</script>\n",
       "<form action=\"javascript:code_toggle()\"><input type=\"submit\" value=\"Click here to toggle on/off the raw code.\"></form>"
      ],
      "text/plain": [
       "<IPython.core.display.HTML object>"
      ]
     },
     "execution_count": 1,
     "metadata": {},
     "output_type": "execute_result"
    }
   ],
   "source": [
    "from IPython.display import HTML\n",
    "\n",
    "HTML('''<script>\n",
    "code_show=true; \n",
    "function code_toggle() {\n",
    " if (code_show){\n",
    " $('div.input').hide();\n",
    " } else {\n",
    " $('div.input').show();\n",
    " }\n",
    " code_show = !code_show\n",
    "} \n",
    "$( document ).ready(code_toggle);\n",
    "</script>\n",
    "<form action=\"javascript:code_toggle()\"><input type=\"submit\" value=\"Click here to toggle on/off the raw code.\"></form>''')"
   ]
  },
  {
   "cell_type": "code",
   "execution_count": 1,
   "metadata": {},
   "outputs": [],
   "source": [
    "%matplotlib inline\n",
    "import numpy as np\n",
    "import matplotlib.pyplot as plt\n",
    "import pylab as P\n",
    "import time, glob, os, math\n",
    "from matplotlib import cm \n",
    "\n",
    "from sklearn.decomposition import PCA, FastICA, KernelPCA, FactorAnalysis\n",
    "from sklearn.model_selection import cross_val_score, train_test_split\n",
    "from sklearn.random_projection import GaussianRandomProjection\n",
    "from sklearn.cluster import KMeans\n",
    "from sklearn import metrics\n",
    "from sklearn.mixture import GaussianMixture as GM\n",
    "from sklearn.preprocessing import StandardScaler\n",
    "from sklearn.utils import shuffle\n",
    "from sklearn.tree import DecisionTreeClassifier as DT"
   ]
  },
  {
   "cell_type": "code",
   "execution_count": 2,
   "metadata": {},
   "outputs": [],
   "source": [
    "rs = 42"
   ]
  },
  {
   "cell_type": "code",
   "execution_count": 3,
   "metadata": {},
   "outputs": [],
   "source": [
    "def output_data(metafile, data):\n",
    "        assert(os.path.exists(metafile)),\"Path to metadata file does not exist\"\n",
    "        datafile = file(metafile)\n",
    "        datafile.seek(0)\n",
    "        for line in datafile:\n",
    "                if data in line:\n",
    "                        break\n",
    "        line = line.split(',')\n",
    "        data_value = line[-1].rstrip()\n",
    "        datafile.close()\n",
    "        return data_value\n",
    "\n",
    "def plot(x, y, xlabel, ylabel):     #Create a plot\n",
    "    plt.figure()\n",
    "    plt.plot(x,y,color='b')\n",
    "    plt.xlabel(xlabel)\n",
    "    plt.ylabel(ylabel)\n",
    "    plt.show()\n",
    "    plt.close()\n",
    "    \n",
    "def scatter(ax, x, y, clr, xlabel, ylabel, title):     #Create a scatter plot\n",
    "\n",
    "    clr_label = {0:'orange', 1:'forestgreen', 2:'deepskyblue',3:'gold', 4:'b', 5:'k', 6:'red', 7:'darkmagenta' }\n",
    "    names = {'NonSpinning':0,'AlignedSpins':1,'Precessing':2}\n",
    "    target_names = np.vectorize(names.get)(clr)\n",
    "    target_labels =  np.vectorize(clr_label.get)(target_names)\n",
    "   \n",
    "    ax.scatter(x,y,facecolors=target_labels, edgecolors=None) \n",
    "    ax.set_xlabel(xlabel)\n",
    "    ax.set_ylabel(ylabel)\n",
    "    ax.set_title(title)\n",
    "    ax.legend()\n",
    "    return ax\n"
   ]
  },
  {
   "cell_type": "code",
   "execution_count": 4,
   "metadata": {},
   "outputs": [],
   "source": [
    "#Principal Component Analysis\n",
    "def func_PCA(n_comp, data):\n",
    "    '''Compute PCA'''\n",
    "    data_copy = np.copy(data)\n",
    "    num_samples, num_features = np.shape(data_copy)\n",
    "    time_init = time.time()\n",
    "    clf = PCA(svd_solver='full', n_components=n_comp, random_state=rs)   \n",
    "    transformed_data = clf.fit_transform(data_copy)\n",
    "    var = clf.explained_variance_\n",
    "    score = clf.score(data_copy)\n",
    "    time_pca = time.time() - time_init\n",
    "    \n",
    "    #print(\"Projected {} samples from {} to {} with score {}\" .format(num_samples, num_features, n_comp, score))\n",
    "    return transformed_data, time_pca"
   ]
  },
  {
   "cell_type": "code",
   "execution_count": 12,
   "metadata": {},
   "outputs": [],
   "source": [
    "#Loading the Dataset\n",
    "\n",
    "data, wf_tag, metadata = [], [],[]\n",
    "GT_filepaths = sorted(glob.glob(\"../../Data/FilteredData/GT*.txt\"))\n",
    "SXS_filepaths = sorted(glob.glob(\"../../Data/FilteredData/SXS*.txt\"))\n",
    "\n",
    "for f in GT_filepaths:\n",
    "    dataset = np.loadtxt(f)\n",
    "    \n",
    "    dataset = np.concatenate(dataset.T)\n",
    "    data.append(dataset)\n",
    "    wf_tag.append(os.path.basename(f).split(\".\")[0])\n",
    "    \n",
    "    metafile = os.path.join(\"../../Data/Metadata\", \"Metadata_\"+wf_tag[-1]+\".csv\")\n",
    "    metadata.append(output_data(metafile, 'spin-type'))\n",
    "    \n",
    "    \n",
    "for f in SXS_filepaths:\n",
    "    dataset = np.loadtxt(f)\n",
    "    dataset = np.concatenate(dataset)\n",
    "    data.append(dataset)\n",
    "    wf_tag.append(os.path.basename(f).split(\".\")[0])\n",
    "    \n",
    "    metafile = os.path.join(\"../../Data/Metadata\", \"Metadata_\"+wf_tag[-1]+\".csv\")\n",
    "    metadata.append(output_data(metafile, 'spin-type'))\n",
    "    \n",
    "data = np.matrix(data)\n",
    "y = np.array(metadata)\n",
    "\n",
    "          \n"
   ]
  },
  {
   "cell_type": "code",
   "execution_count": 13,
   "metadata": {},
   "outputs": [],
   "source": [
    "def func_dectree(data, trainsize, pca_comp):\n",
    "    data_train, data_test, y_train, y_test = train_test_split(data, y, train_size=trainsize, random_state=12)\n",
    "    data_train, y_train = shuffle(data_train, y_train, random_state=rs)\n",
    "    \n",
    "    SS_data =StandardScaler()\n",
    "    #SS_y = StandardScaler()\n",
    "\n",
    "    data_train =  SS_data.fit_transform(data_train)\n",
    "    data_test = SS_data.transform(data_test)\n",
    "    data_pca, _ = func_PCA(pca_comp, data_train)\n",
    "    data_pca_test, _ = func_PCA(pca_comp, data_test)\n",
    "    clf = DT()\n",
    "    data_dt = clf.fit_transform(data_pca, y_train)\n",
    "    cv_scores = (np.mean(cross_val_score(clf, data_dt, y_train, cv=3)))\n",
    "    score_train = clf.score(data_pca, y_train)\n",
    "    score_test = clf.score(data_pca_test,y_test)\n",
    "    print(\"Training Size = %f(%f), Cross Validation Score = %f, Train Score = %f \\n Testing size=%d, Testing Score = %f\"%(trainsize,len(y_train),cv_scores,score_train,len(y_test), score_test))\n",
    "    return cv_scores, score_train, score_test, data_dt"
   ]
  },
  {
   "cell_type": "code",
   "execution_count": 14,
   "metadata": {},
   "outputs": [
    {
     "ename": "AttributeError",
     "evalue": "'DecisionTreeClassifier' object has no attribute 'fit_transform'",
     "output_type": "error",
     "traceback": [
      "\u001b[0;31m---------------------------------------------------------------------------\u001b[0m",
      "\u001b[0;31mAttributeError\u001b[0m                            Traceback (most recent call last)",
      "\u001b[0;32m<ipython-input-14-e324fb406766>\u001b[0m in \u001b[0;36m<module>\u001b[0;34m()\u001b[0m\n\u001b[1;32m      3\u001b[0m \u001b[0mn\u001b[0m  \u001b[0;34m=\u001b[0m \u001b[0mnp\u001b[0m\u001b[0;34m.\u001b[0m\u001b[0marange\u001b[0m\u001b[0;34m(\u001b[0m\u001b[0;36m0.2\u001b[0m\u001b[0;34m,\u001b[0m\u001b[0;36m1\u001b[0m\u001b[0;34m,\u001b[0m\u001b[0;36m0.1\u001b[0m\u001b[0;34m)\u001b[0m\u001b[0;34m\u001b[0m\u001b[0m\n\u001b[1;32m      4\u001b[0m \u001b[0;32mfor\u001b[0m \u001b[0mi\u001b[0m \u001b[0;32min\u001b[0m \u001b[0mn\u001b[0m\u001b[0;34m:\u001b[0m\u001b[0;34m\u001b[0m\u001b[0m\n\u001b[0;32m----> 5\u001b[0;31m     \u001b[0mfunc_dectree\u001b[0m\u001b[0;34m(\u001b[0m\u001b[0mdata\u001b[0m\u001b[0;34m,\u001b[0m \u001b[0mi\u001b[0m\u001b[0;34m,\u001b[0m \u001b[0;36m40\u001b[0m\u001b[0;34m)\u001b[0m\u001b[0;34m\u001b[0m\u001b[0m\n\u001b[0m",
      "\u001b[0;32m<ipython-input-13-d20f936daa69>\u001b[0m in \u001b[0;36mfunc_dectree\u001b[0;34m(data, trainsize, pca_comp)\u001b[0m\n\u001b[1;32m     11\u001b[0m     \u001b[0mdata_pca_test\u001b[0m\u001b[0;34m,\u001b[0m \u001b[0m_\u001b[0m \u001b[0;34m=\u001b[0m \u001b[0mfunc_PCA\u001b[0m\u001b[0;34m(\u001b[0m\u001b[0mpca_comp\u001b[0m\u001b[0;34m,\u001b[0m \u001b[0mdata_test\u001b[0m\u001b[0;34m)\u001b[0m\u001b[0;34m\u001b[0m\u001b[0m\n\u001b[1;32m     12\u001b[0m     \u001b[0mclf\u001b[0m \u001b[0;34m=\u001b[0m \u001b[0mDT\u001b[0m\u001b[0;34m(\u001b[0m\u001b[0;34m)\u001b[0m\u001b[0;34m\u001b[0m\u001b[0m\n\u001b[0;32m---> 13\u001b[0;31m     \u001b[0mdata_dt\u001b[0m \u001b[0;34m=\u001b[0m \u001b[0mclf\u001b[0m\u001b[0;34m.\u001b[0m\u001b[0mfit_transform\u001b[0m\u001b[0;34m(\u001b[0m\u001b[0mdata_pca\u001b[0m\u001b[0;34m,\u001b[0m \u001b[0my_train\u001b[0m\u001b[0;34m)\u001b[0m\u001b[0;34m\u001b[0m\u001b[0m\n\u001b[0m\u001b[1;32m     14\u001b[0m     \u001b[0mcv_scores\u001b[0m \u001b[0;34m=\u001b[0m \u001b[0;34m(\u001b[0m\u001b[0mnp\u001b[0m\u001b[0;34m.\u001b[0m\u001b[0mmean\u001b[0m\u001b[0;34m(\u001b[0m\u001b[0mcross_val_score\u001b[0m\u001b[0;34m(\u001b[0m\u001b[0mclf\u001b[0m\u001b[0;34m,\u001b[0m \u001b[0mdata_dt\u001b[0m\u001b[0;34m,\u001b[0m \u001b[0my_train\u001b[0m\u001b[0;34m,\u001b[0m \u001b[0mcv\u001b[0m\u001b[0;34m=\u001b[0m\u001b[0;36m3\u001b[0m\u001b[0;34m)\u001b[0m\u001b[0;34m)\u001b[0m\u001b[0;34m)\u001b[0m\u001b[0;34m\u001b[0m\u001b[0m\n\u001b[1;32m     15\u001b[0m     \u001b[0mscore_train\u001b[0m \u001b[0;34m=\u001b[0m \u001b[0mclf\u001b[0m\u001b[0;34m.\u001b[0m\u001b[0mscore\u001b[0m\u001b[0;34m(\u001b[0m\u001b[0mdata_pca\u001b[0m\u001b[0;34m,\u001b[0m \u001b[0my_train\u001b[0m\u001b[0;34m)\u001b[0m\u001b[0;34m\u001b[0m\u001b[0m\n",
      "\u001b[0;31mAttributeError\u001b[0m: 'DecisionTreeClassifier' object has no attribute 'fit_transform'"
     ]
    }
   ],
   "source": [
    "#Finding optimal training data size\n",
    "\n",
    "n  = np.arange(0.2,1,0.1)\n",
    "for i in n:\n",
    "    func_dectree(data, i, 40)"
   ]
  },
  {
   "cell_type": "code",
   "execution_count": null,
   "metadata": {
    "collapsed": true
   },
   "outputs": [],
   "source": [
    "#FInding optimal number of PCA components\n",
    "n  = np.arange(20,42,5)\n",
    "for i in n:\n",
    "    func_dectree(data, 0.6,i)"
   ]
  }
 ],
 "metadata": {
  "kernelspec": {
   "display_name": "Python 2",
   "language": "python",
   "name": "python2"
  },
  "language_info": {
   "codemirror_mode": {
    "name": "ipython",
    "version": 2
   },
   "file_extension": ".py",
   "mimetype": "text/x-python",
   "name": "python",
   "nbconvert_exporter": "python",
   "pygments_lexer": "ipython2",
   "version": "2.7.5"
  },
  "toc": {
   "base_numbering": 1,
   "nav_menu": {},
   "number_sections": true,
   "sideBar": true,
   "skip_h1_title": false,
   "title_cell": "Table of Contents",
   "title_sidebar": "Contents",
   "toc_cell": false,
   "toc_position": {},
   "toc_section_display": true,
   "toc_window_display": false
  }
 },
 "nbformat": 4,
 "nbformat_minor": 2
}
